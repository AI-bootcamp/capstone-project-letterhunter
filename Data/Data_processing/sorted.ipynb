{
 "cells": [
  {
   "cell_type": "code",
   "execution_count": 4,
   "metadata": {},
   "outputs": [],
   "source": [
    "import pandas as pd\n",
    "import string"
   ]
  },
  {
   "cell_type": "code",
   "execution_count": 7,
   "metadata": {},
   "outputs": [
    {
     "name": "stdout",
     "output_type": "stream",
     "text": [
      "Organized words saved to organized_words.xlsx\n"
     ]
    }
   ],
   "source": [
    "# Load the Excel file\n",
    "input_file = 'WordsX.xlsx'  # Replace with the actual path\n",
    "output_file = 'organized_words.xlsx'\n",
    "\n",
    "# Read the data\n",
    "df = pd.read_excel(input_file, header=None)  # Assuming the list is in the first column\n",
    "all_words = df[0].apply(lambda x: str(x).split(','))  # Split the strings on commas\n",
    "\n",
    "# Create a dictionary to store results\n",
    "arabic_alphabet = [chr(i) for i in range(0x0621, 0x064A + 1)]  # Arabic letters\n",
    "words_dict = {letter: [] for letter in arabic_alphabet}\n",
    "\n",
    "# Categorize words by their starting letter\n",
    "for word_list in all_words:\n",
    "    for word in word_list:\n",
    "        word = word.strip()  # Remove any leading/trailing spaces\n",
    "        if word:  # Skip empty strings\n",
    "            first_letter = word[0]\n",
    "            if first_letter in words_dict:\n",
    "                words_dict[first_letter].append(word)\n",
    "\n",
    "# Create a new DataFrame\n",
    "organized_data = {\n",
    "    \"Arabic Letter\": [],\n",
    "    \"Words\": [],\n",
    "}\n",
    "\n",
    "for letter, words in words_dict.items():\n",
    "    organized_data[\"Arabic Letter\"].append(letter)\n",
    "    organized_data[\"Words\"].append(\", \".join(sorted(set(words))))  # Sort and remove duplicates\n",
    "\n",
    "output_df = pd.DataFrame(organized_data)\n",
    "\n",
    "# Save to a new Excel file\n",
    "output_df.to_excel(output_file, index=False)\n",
    "print(f\"Organized words saved to {output_file}\")\n"
   ]
  },
  {
   "cell_type": "code",
   "execution_count": 9,
   "metadata": {},
   "outputs": [
    {
     "name": "stdout",
     "output_type": "stream",
     "text": [
      "File saved as grouped_by_arabic_letters.xlsx\n"
     ]
    },
    {
     "name": "stderr",
     "output_type": "stream",
     "text": [
      "C:\\Users\\mdssr\\AppData\\Local\\Temp\\ipykernel_19236\\3936711229.py:11: FutureWarning: Series.__getitem__ treating keys as positions is deprecated. In a future version, integer keys will always be treated as labels (consistent with DataFrame behavior). To access a value by position, use `ser.iloc[pos]`\n",
      "  english_object = row[0]\n",
      "C:\\Users\\mdssr\\AppData\\Local\\Temp\\ipykernel_19236\\3936711229.py:13: FutureWarning: Series.__getitem__ treating keys as positions is deprecated. In a future version, integer keys will always be treated as labels (consistent with DataFrame behavior). To access a value by position, use `ser.iloc[pos]`\n",
      "  arabic_synonyms = [synonym.strip() for synonym in row[1].split(\",\")]\n"
     ]
    }
   ],
   "source": [
    "import pandas as pd\n",
    "\n",
    "# Load the original XLSX file\n",
    "file_path = \"WordsY.xlsx\"  # Replace with the path to your file\n",
    "df = pd.read_excel(file_path)\n",
    "\n",
    "# Create a dictionary to group by Arabic letters\n",
    "letter_to_objects = {}\n",
    "\n",
    "for _, row in df.iterrows():\n",
    "    english_object = row[0]\n",
    "    # Split the Arabic synonyms string into a list\n",
    "    arabic_synonyms = [synonym.strip() for synonym in row[1].split(\",\")]\n",
    "\n",
    "    for synonym in arabic_synonyms:\n",
    "        first_letter = synonym[0]  # Get the first Arabic letter\n",
    "        if first_letter not in letter_to_objects:\n",
    "            letter_to_objects[first_letter] = set()\n",
    "        letter_to_objects[first_letter].add(english_object)\n",
    "\n",
    "# Create a new DataFrame for the output\n",
    "output_data = {\n",
    "    \"Arabic Letter\": list(letter_to_objects.keys()),\n",
    "    \"Objects in English\": [list(objects) for objects in letter_to_objects.values()]\n",
    "}\n",
    "\n",
    "output_df = pd.DataFrame(output_data)\n",
    "\n",
    "# Save the output to a new XLSX file\n",
    "output_file = \"grouped_by_arabic_letters.xlsx\"\n",
    "output_df.to_excel(output_file, index=False)\n",
    "\n",
    "print(f\"File saved as {output_file}\")\n"
   ]
  },
  {
   "cell_type": "code",
   "execution_count": 23,
   "metadata": {},
   "outputs": [],
   "source": [
    "df2 = pd.read_excel('grouped_by_arabic_letters.xlsx')"
   ]
  },
  {
   "cell_type": "code",
   "execution_count": 24,
   "metadata": {},
   "outputs": [
    {
     "data": {
      "text/html": [
       "<div>\n",
       "<style scoped>\n",
       "    .dataframe tbody tr th:only-of-type {\n",
       "        vertical-align: middle;\n",
       "    }\n",
       "\n",
       "    .dataframe tbody tr th {\n",
       "        vertical-align: top;\n",
       "    }\n",
       "\n",
       "    .dataframe thead th {\n",
       "        text-align: right;\n",
       "    }\n",
       "</style>\n",
       "<table border=\"1\" class=\"dataframe\">\n",
       "  <thead>\n",
       "    <tr style=\"text-align: right;\">\n",
       "      <th></th>\n",
       "      <th>Arabic Letter</th>\n",
       "      <th>Objects in English</th>\n",
       "    </tr>\n",
       "  </thead>\n",
       "  <tbody>\n",
       "    <tr>\n",
       "      <th>0</th>\n",
       "      <td>ط</td>\n",
       "      <td>['Helicopter', 'Desk', 'Pasta', 'Popcorn', 'Pe...</td>\n",
       "    </tr>\n",
       "    <tr>\n",
       "      <th>1</th>\n",
       "      <td>م</td>\n",
       "      <td>['Whale', 'Parachute', 'Pasta', 'Towel', 'Nail...</td>\n",
       "    </tr>\n",
       "    <tr>\n",
       "      <th>2</th>\n",
       "      <td>ن</td>\n",
       "      <td>['Pasta', 'Binoculars', 'Eagle', 'Palm tree', ...</td>\n",
       "    </tr>\n",
       "    <tr>\n",
       "      <th>3</th>\n",
       "      <td>س</td>\n",
       "      <td>['Ladder', 'Candy', 'Bed', 'Stethoscope', 'Fis...</td>\n",
       "    </tr>\n",
       "    <tr>\n",
       "      <th>4</th>\n",
       "      <td>إ</td>\n",
       "      <td>['Pitcher (Container)', 'Bicycle wheel', 'Stop...</td>\n",
       "    </tr>\n",
       "  </tbody>\n",
       "</table>\n",
       "</div>"
      ],
      "text/plain": [
       "  Arabic Letter                                 Objects in English\n",
       "0             ط  ['Helicopter', 'Desk', 'Pasta', 'Popcorn', 'Pe...\n",
       "1             م  ['Whale', 'Parachute', 'Pasta', 'Towel', 'Nail...\n",
       "2             ن  ['Pasta', 'Binoculars', 'Eagle', 'Palm tree', ...\n",
       "3             س  ['Ladder', 'Candy', 'Bed', 'Stethoscope', 'Fis...\n",
       "4             إ  ['Pitcher (Container)', 'Bicycle wheel', 'Stop..."
      ]
     },
     "execution_count": 24,
     "metadata": {},
     "output_type": "execute_result"
    }
   ],
   "source": [
    "df2.head()"
   ]
  },
  {
   "cell_type": "code",
   "execution_count": 25,
   "metadata": {},
   "outputs": [
    {
     "data": {
      "text/plain": [
       "0     ['Helicopter', 'Desk', 'Pasta', 'Popcorn', 'Pe...\n",
       "1     ['Whale', 'Parachute', 'Pasta', 'Towel', 'Nail...\n",
       "2     ['Pasta', 'Binoculars', 'Eagle', 'Palm tree', ...\n",
       "3     ['Ladder', 'Candy', 'Bed', 'Stethoscope', 'Fis...\n",
       "4     ['Pitcher (Container)', 'Bicycle wheel', 'Stop...\n",
       "5     ['Moths and butterflies', 'Pretzel', 'Cart', '...\n",
       "6     ['Whale', 'Candy', 'Handbag', 'Bear', 'Tripod'...\n",
       "7     ['Cake', 'Squid', 'Cart', 'Bird', 'Plastic bag...\n",
       "8                              ['Envelope', 'Antelope']\n",
       "9     ['Raven', 'Window blind', 'Teapot', 'Deer', 'K...\n",
       "10    ['Roller skates', 'Fork', 'Pineapple', 'Dumbbe...\n",
       "11    ['Shirt', 'Apple', 'Binoculars', 'Human hair',...\n",
       "12    ['Moths and butterflies', 'Popcorn', 'Bed', 'A...\n",
       "13    ['Fork', 'Candle', 'Cantaloupe', 'Scarf', 'Han...\n",
       "14    ['Cucumber', 'Pig', 'Peach', 'Whisk', 'Human h...\n",
       "15    ['Human body', 'Penguin', 'Cantaloupe', 'Cooki...\n",
       "16    ['Plate', 'Scarf', 'Turkey', 'Milk', 'Computer...\n",
       "17    ['Popcorn', 'Scarf', 'Food', 'Towel', 'Paper t...\n",
       "18    ['Shirt', 'Coffee', 'Cowboy hat', 'Bottle', 'B...\n",
       "19    ['Turkey', 'Stairs', 'Polar bear', 'Dumbbell',...\n",
       "20    ['Roller skates', 'Bottle', 'Earrings', 'Water...\n",
       "21    ['Parachute', 'Jacuzzi', 'Human body', 'Kettle...\n",
       "22    ['Box', 'Sandal', 'Plate', 'Coffeemaker', 'Fal...\n",
       "23    ['Coat', 'Perfume', 'Human head', 'Wardrobe', ...\n",
       "24    ['Fox', 'Dolphin', 'Fruit', 'Grape', 'Bull', '...\n",
       "25    ['Calculator', 'Ice cream', 'Printer', 'Drum',...\n",
       "26                  ['Frog', 'Candle', 'Traffic light']\n",
       "27    ['Pear', 'Corded phone', 'Hot dog', 'Hamburger...\n",
       "28                                 ['Human arm', 'Man']\n",
       "29                            ['Pumpkin', 'Human hand']\n",
       "30                                    ['Lynx', 'Woman']\n",
       "Name: Objects in English, dtype: object"
      ]
     },
     "execution_count": 25,
     "metadata": {},
     "output_type": "execute_result"
    }
   ],
   "source": [
    "df2.iloc[:, 1]"
   ]
  },
  {
   "cell_type": "code",
   "execution_count": 26,
   "metadata": {},
   "outputs": [
    {
     "name": "stdout",
     "output_type": "stream",
     "text": [
      "Cleaned file saved as cleaned_file.xlsx\n"
     ]
    }
   ],
   "source": [
    "\n",
    "# Clean the column by removing brackets and quotes\n",
    "df2.iloc[:, 1] = df.iloc[:, 1].str.replace(r\"[\\[\\]']\", \"\", regex=True).str.strip()\n",
    "\n",
    "# Save the cleaned data to a new Excel file\n",
    "output_file = \"cleaned_file.xlsx\"\n",
    "df2.to_excel(output_file, index=False, header=False)  # Set header=False if there's no header in the original file\n",
    "\n",
    "print(f\"Cleaned file saved as {output_file}\")\n"
   ]
  },
  {
   "cell_type": "code",
   "execution_count": null,
   "metadata": {},
   "outputs": [],
   "source": []
  }
 ],
 "metadata": {
  "kernelspec": {
   "display_name": ".venv",
   "language": "python",
   "name": "python3"
  },
  "language_info": {
   "codemirror_mode": {
    "name": "ipython",
    "version": 3
   },
   "file_extension": ".py",
   "mimetype": "text/x-python",
   "name": "python",
   "nbconvert_exporter": "python",
   "pygments_lexer": "ipython3",
   "version": "3.12.8"
  }
 },
 "nbformat": 4,
 "nbformat_minor": 2
}
