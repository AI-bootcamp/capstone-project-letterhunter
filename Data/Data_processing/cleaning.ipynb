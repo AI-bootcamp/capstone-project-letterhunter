{
 "cells": [
  {
   "cell_type": "code",
   "execution_count": 2,
   "metadata": {},
   "outputs": [],
   "source": [
    "import pandas as pd"
   ]
  },
  {
   "cell_type": "code",
   "execution_count": 8,
   "metadata": {},
   "outputs": [],
   "source": [
    "df = pd.read_excel('grouped_by_arabic_letters.xlsx')"
   ]
  },
  {
   "cell_type": "code",
   "execution_count": 9,
   "metadata": {},
   "outputs": [
    {
     "data": {
      "text/html": [
       "<div>\n",
       "<style scoped>\n",
       "    .dataframe tbody tr th:only-of-type {\n",
       "        vertical-align: middle;\n",
       "    }\n",
       "\n",
       "    .dataframe tbody tr th {\n",
       "        vertical-align: top;\n",
       "    }\n",
       "\n",
       "    .dataframe thead th {\n",
       "        text-align: right;\n",
       "    }\n",
       "</style>\n",
       "<table border=\"1\" class=\"dataframe\">\n",
       "  <thead>\n",
       "    <tr style=\"text-align: right;\">\n",
       "      <th></th>\n",
       "      <th>Arabic Letter</th>\n",
       "      <th>Objects in English</th>\n",
       "    </tr>\n",
       "  </thead>\n",
       "  <tbody>\n",
       "    <tr>\n",
       "      <th>0</th>\n",
       "      <td>ط</td>\n",
       "      <td>['Helicopter', 'Desk', 'Pasta', 'Popcorn', 'Pe...</td>\n",
       "    </tr>\n",
       "    <tr>\n",
       "      <th>1</th>\n",
       "      <td>م</td>\n",
       "      <td>['Whale', 'Parachute', 'Pasta', 'Towel', 'Nail...</td>\n",
       "    </tr>\n",
       "    <tr>\n",
       "      <th>2</th>\n",
       "      <td>ن</td>\n",
       "      <td>['Pasta', 'Binoculars', 'Eagle', 'Palm tree', ...</td>\n",
       "    </tr>\n",
       "    <tr>\n",
       "      <th>3</th>\n",
       "      <td>س</td>\n",
       "      <td>['Ladder', 'Candy', 'Bed', 'Stethoscope', 'Fis...</td>\n",
       "    </tr>\n",
       "    <tr>\n",
       "      <th>4</th>\n",
       "      <td>إ</td>\n",
       "      <td>['Pitcher (Container)', 'Bicycle wheel', 'Stop...</td>\n",
       "    </tr>\n",
       "  </tbody>\n",
       "</table>\n",
       "</div>"
      ],
      "text/plain": [
       "  Arabic Letter                                 Objects in English\n",
       "0             ط  ['Helicopter', 'Desk', 'Pasta', 'Popcorn', 'Pe...\n",
       "1             م  ['Whale', 'Parachute', 'Pasta', 'Towel', 'Nail...\n",
       "2             ن  ['Pasta', 'Binoculars', 'Eagle', 'Palm tree', ...\n",
       "3             س  ['Ladder', 'Candy', 'Bed', 'Stethoscope', 'Fis...\n",
       "4             إ  ['Pitcher (Container)', 'Bicycle wheel', 'Stop..."
      ]
     },
     "execution_count": 9,
     "metadata": {},
     "output_type": "execute_result"
    }
   ],
   "source": [
    "df.head()"
   ]
  },
  {
   "cell_type": "code",
   "execution_count": 10,
   "metadata": {},
   "outputs": [
    {
     "data": {
      "text/plain": [
       "Index(['Arabic Letter', 'Objects in English'], dtype='object')"
      ]
     },
     "execution_count": 10,
     "metadata": {},
     "output_type": "execute_result"
    }
   ],
   "source": [
    "df.columns"
   ]
  },
  {
   "cell_type": "code",
   "execution_count": 11,
   "metadata": {},
   "outputs": [],
   "source": [
    "# Remove unwanted characters from the column\n",
    "df['Objects in English'] = df['Objects in English'].str.replace(r\"[\\[\\]']\", '', regex=True)\n",
    "\n",
    "# Save the cleaned data back to an Excel file\n",
    "df.to_excel('cleaned_file.xlsx', index=False)\n"
   ]
  },
  {
   "cell_type": "code",
   "execution_count": null,
   "metadata": {},
   "outputs": [],
   "source": []
  }
 ],
 "metadata": {
  "kernelspec": {
   "display_name": ".venv",
   "language": "python",
   "name": "python3"
  },
  "language_info": {
   "codemirror_mode": {
    "name": "ipython",
    "version": 3
   },
   "file_extension": ".py",
   "mimetype": "text/x-python",
   "name": "python",
   "nbconvert_exporter": "python",
   "pygments_lexer": "ipython3",
   "version": "3.12.8"
  }
 },
 "nbformat": 4,
 "nbformat_minor": 2
}
