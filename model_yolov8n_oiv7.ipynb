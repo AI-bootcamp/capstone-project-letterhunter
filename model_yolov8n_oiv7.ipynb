{
  "cells": [
    {
      "cell_type": "code",
      "execution_count": 2,
      "metadata": {
        "colab": {
          "base_uri": "https://localhost:8080/"
        },
        "id": "lZQ-hTut525w",
        "outputId": "928502d2-48ce-4a26-aba7-c3e4e27c0820"
      },
      "outputs": [
        {
          "name": "stdout",
          "output_type": "stream",
          "text": [
            "Requirement already satisfied: ultralytics in c:\\users\\mdssr\\documents\\vscode-workspace\\.venv\\lib\\site-packages (8.3.52)\n",
            "Requirement already satisfied: numpy>=1.23.0 in c:\\users\\mdssr\\documents\\vscode-workspace\\.venv\\lib\\site-packages (from ultralytics) (1.26.4)\n",
            "Requirement already satisfied: matplotlib>=3.3.0 in c:\\users\\mdssr\\documents\\vscode-workspace\\.venv\\lib\\site-packages (from ultralytics) (3.7.5)\n",
            "Requirement already satisfied: opencv-python>=4.6.0 in c:\\users\\mdssr\\documents\\vscode-workspace\\.venv\\lib\\site-packages (from ultralytics) (4.10.0.84)\n",
            "Requirement already satisfied: pillow>=7.1.2 in c:\\users\\mdssr\\documents\\vscode-workspace\\.venv\\lib\\site-packages (from ultralytics) (10.4.0)\n",
            "Requirement already satisfied: pyyaml>=5.3.1 in c:\\users\\mdssr\\documents\\vscode-workspace\\.venv\\lib\\site-packages (from ultralytics) (6.0.2)\n",
            "Requirement already satisfied: requests>=2.23.0 in c:\\users\\mdssr\\documents\\vscode-workspace\\.venv\\lib\\site-packages (from ultralytics) (2.32.3)\n",
            "Requirement already satisfied: scipy>=1.4.1 in c:\\users\\mdssr\\documents\\vscode-workspace\\.venv\\lib\\site-packages (from ultralytics) (1.11.4)\n",
            "Requirement already satisfied: torch>=1.8.0 in c:\\users\\mdssr\\documents\\vscode-workspace\\.venv\\lib\\site-packages (from ultralytics) (2.4.1)\n",
            "Requirement already satisfied: torchvision>=0.9.0 in c:\\users\\mdssr\\documents\\vscode-workspace\\.venv\\lib\\site-packages (from ultralytics) (0.19.1)\n",
            "Requirement already satisfied: tqdm>=4.64.0 in c:\\users\\mdssr\\documents\\vscode-workspace\\.venv\\lib\\site-packages (from ultralytics) (4.67.0)\n",
            "Requirement already satisfied: psutil in c:\\users\\mdssr\\documents\\vscode-workspace\\.venv\\lib\\site-packages (from ultralytics) (6.1.0)\n",
            "Requirement already satisfied: py-cpuinfo in c:\\users\\mdssr\\documents\\vscode-workspace\\.venv\\lib\\site-packages (from ultralytics) (9.0.0)\n",
            "Requirement already satisfied: pandas>=1.1.4 in c:\\users\\mdssr\\documents\\vscode-workspace\\.venv\\lib\\site-packages (from ultralytics) (2.1.4)\n",
            "Requirement already satisfied: seaborn>=0.11.0 in c:\\users\\mdssr\\documents\\vscode-workspace\\.venv\\lib\\site-packages (from ultralytics) (0.13.2)\n",
            "Requirement already satisfied: ultralytics-thop>=2.0.0 in c:\\users\\mdssr\\documents\\vscode-workspace\\.venv\\lib\\site-packages (from ultralytics) (2.0.13)\n",
            "Requirement already satisfied: contourpy>=1.0.1 in c:\\users\\mdssr\\documents\\vscode-workspace\\.venv\\lib\\site-packages (from matplotlib>=3.3.0->ultralytics) (1.3.1)\n",
            "Requirement already satisfied: cycler>=0.10 in c:\\users\\mdssr\\documents\\vscode-workspace\\.venv\\lib\\site-packages (from matplotlib>=3.3.0->ultralytics) (0.12.1)\n",
            "Requirement already satisfied: fonttools>=4.22.0 in c:\\users\\mdssr\\documents\\vscode-workspace\\.venv\\lib\\site-packages (from matplotlib>=3.3.0->ultralytics) (4.55.0)\n",
            "Requirement already satisfied: kiwisolver>=1.0.1 in c:\\users\\mdssr\\documents\\vscode-workspace\\.venv\\lib\\site-packages (from matplotlib>=3.3.0->ultralytics) (1.4.7)\n",
            "Requirement already satisfied: packaging>=20.0 in c:\\users\\mdssr\\documents\\vscode-workspace\\.venv\\lib\\site-packages (from matplotlib>=3.3.0->ultralytics) (24.1)\n",
            "Requirement already satisfied: pyparsing>=2.3.1 in c:\\users\\mdssr\\documents\\vscode-workspace\\.venv\\lib\\site-packages (from matplotlib>=3.3.0->ultralytics) (3.2.0)\n",
            "Requirement already satisfied: python-dateutil>=2.7 in c:\\users\\mdssr\\documents\\vscode-workspace\\.venv\\lib\\site-packages (from matplotlib>=3.3.0->ultralytics) (2.9.0.post0)\n",
            "Requirement already satisfied: pytz>=2020.1 in c:\\users\\mdssr\\documents\\vscode-workspace\\.venv\\lib\\site-packages (from pandas>=1.1.4->ultralytics) (2024.2)\n",
            "Requirement already satisfied: tzdata>=2022.1 in c:\\users\\mdssr\\documents\\vscode-workspace\\.venv\\lib\\site-packages (from pandas>=1.1.4->ultralytics) (2024.2)\n",
            "Requirement already satisfied: charset-normalizer<4,>=2 in c:\\users\\mdssr\\documents\\vscode-workspace\\.venv\\lib\\site-packages (from requests>=2.23.0->ultralytics) (3.4.0)\n",
            "Requirement already satisfied: idna<4,>=2.5 in c:\\users\\mdssr\\documents\\vscode-workspace\\.venv\\lib\\site-packages (from requests>=2.23.0->ultralytics) (3.10)\n",
            "Requirement already satisfied: urllib3<3,>=1.21.1 in c:\\users\\mdssr\\documents\\vscode-workspace\\.venv\\lib\\site-packages (from requests>=2.23.0->ultralytics) (2.2.3)\n",
            "Requirement already satisfied: certifi>=2017.4.17 in c:\\users\\mdssr\\documents\\vscode-workspace\\.venv\\lib\\site-packages (from requests>=2.23.0->ultralytics) (2024.8.30)\n",
            "Requirement already satisfied: filelock in c:\\users\\mdssr\\documents\\vscode-workspace\\.venv\\lib\\site-packages (from torch>=1.8.0->ultralytics) (3.16.1)\n",
            "Requirement already satisfied: typing-extensions>=4.8.0 in c:\\users\\mdssr\\documents\\vscode-workspace\\.venv\\lib\\site-packages (from torch>=1.8.0->ultralytics) (4.12.2)\n",
            "Requirement already satisfied: sympy in c:\\users\\mdssr\\documents\\vscode-workspace\\.venv\\lib\\site-packages (from torch>=1.8.0->ultralytics) (1.13.3)\n",
            "Requirement already satisfied: networkx in c:\\users\\mdssr\\documents\\vscode-workspace\\.venv\\lib\\site-packages (from torch>=1.8.0->ultralytics) (3.3)\n",
            "Requirement already satisfied: jinja2 in c:\\users\\mdssr\\documents\\vscode-workspace\\.venv\\lib\\site-packages (from torch>=1.8.0->ultralytics) (3.1.4)\n",
            "Requirement already satisfied: fsspec in c:\\users\\mdssr\\documents\\vscode-workspace\\.venv\\lib\\site-packages (from torch>=1.8.0->ultralytics) (2024.9.0)\n",
            "Requirement already satisfied: setuptools in c:\\users\\mdssr\\documents\\vscode-workspace\\.venv\\lib\\site-packages (from torch>=1.8.0->ultralytics) (75.1.0)\n",
            "Requirement already satisfied: colorama in c:\\users\\mdssr\\documents\\vscode-workspace\\.venv\\lib\\site-packages (from tqdm>=4.64.0->ultralytics) (0.4.6)\n",
            "Requirement already satisfied: six>=1.5 in c:\\users\\mdssr\\documents\\vscode-workspace\\.venv\\lib\\site-packages (from python-dateutil>=2.7->matplotlib>=3.3.0->ultralytics) (1.16.0)\n",
            "Requirement already satisfied: MarkupSafe>=2.0 in c:\\users\\mdssr\\documents\\vscode-workspace\\.venv\\lib\\site-packages (from jinja2->torch>=1.8.0->ultralytics) (2.1.5)\n",
            "Requirement already satisfied: mpmath<1.4,>=1.1.0 in c:\\users\\mdssr\\documents\\vscode-workspace\\.venv\\lib\\site-packages (from sympy->torch>=1.8.0->ultralytics) (1.3.0)\n"
          ]
        }
      ],
      "source": [
        "!pip install ultralytics"
      ]
    },
    {
      "cell_type": "code",
      "execution_count": 3,
      "metadata": {
        "colab": {
          "base_uri": "https://localhost:8080/"
        },
        "id": "x_GEnd0Z-Z8i",
        "outputId": "8a4319d2-5095-4931-da71-7f4d98696414"
      },
      "outputs": [
        {
          "name": "stdout",
          "output_type": "stream",
          "text": [
            "Requirement already satisfied: ultralytics in c:\\users\\mdssr\\documents\\vscode-workspace\\.venv\\lib\\site-packages (8.3.52)\n",
            "Requirement already satisfied: opencv-python in c:\\users\\mdssr\\documents\\vscode-workspace\\.venv\\lib\\site-packages (4.10.0.84)\n",
            "Requirement already satisfied: numpy>=1.23.0 in c:\\users\\mdssr\\documents\\vscode-workspace\\.venv\\lib\\site-packages (from ultralytics) (1.26.4)\n",
            "Requirement already satisfied: matplotlib>=3.3.0 in c:\\users\\mdssr\\documents\\vscode-workspace\\.venv\\lib\\site-packages (from ultralytics) (3.7.5)\n",
            "Requirement already satisfied: pillow>=7.1.2 in c:\\users\\mdssr\\documents\\vscode-workspace\\.venv\\lib\\site-packages (from ultralytics) (10.4.0)\n",
            "Requirement already satisfied: pyyaml>=5.3.1 in c:\\users\\mdssr\\documents\\vscode-workspace\\.venv\\lib\\site-packages (from ultralytics) (6.0.2)\n",
            "Requirement already satisfied: requests>=2.23.0 in c:\\users\\mdssr\\documents\\vscode-workspace\\.venv\\lib\\site-packages (from ultralytics) (2.32.3)\n",
            "Requirement already satisfied: scipy>=1.4.1 in c:\\users\\mdssr\\documents\\vscode-workspace\\.venv\\lib\\site-packages (from ultralytics) (1.11.4)\n",
            "Requirement already satisfied: torch>=1.8.0 in c:\\users\\mdssr\\documents\\vscode-workspace\\.venv\\lib\\site-packages (from ultralytics) (2.4.1)\n",
            "Requirement already satisfied: torchvision>=0.9.0 in c:\\users\\mdssr\\documents\\vscode-workspace\\.venv\\lib\\site-packages (from ultralytics) (0.19.1)\n",
            "Requirement already satisfied: tqdm>=4.64.0 in c:\\users\\mdssr\\documents\\vscode-workspace\\.venv\\lib\\site-packages (from ultralytics) (4.67.0)\n",
            "Requirement already satisfied: psutil in c:\\users\\mdssr\\documents\\vscode-workspace\\.venv\\lib\\site-packages (from ultralytics) (6.1.0)\n",
            "Requirement already satisfied: py-cpuinfo in c:\\users\\mdssr\\documents\\vscode-workspace\\.venv\\lib\\site-packages (from ultralytics) (9.0.0)\n",
            "Requirement already satisfied: pandas>=1.1.4 in c:\\users\\mdssr\\documents\\vscode-workspace\\.venv\\lib\\site-packages (from ultralytics) (2.1.4)\n",
            "Requirement already satisfied: seaborn>=0.11.0 in c:\\users\\mdssr\\documents\\vscode-workspace\\.venv\\lib\\site-packages (from ultralytics) (0.13.2)\n",
            "Requirement already satisfied: ultralytics-thop>=2.0.0 in c:\\users\\mdssr\\documents\\vscode-workspace\\.venv\\lib\\site-packages (from ultralytics) (2.0.13)\n",
            "Requirement already satisfied: contourpy>=1.0.1 in c:\\users\\mdssr\\documents\\vscode-workspace\\.venv\\lib\\site-packages (from matplotlib>=3.3.0->ultralytics) (1.3.1)\n",
            "Requirement already satisfied: cycler>=0.10 in c:\\users\\mdssr\\documents\\vscode-workspace\\.venv\\lib\\site-packages (from matplotlib>=3.3.0->ultralytics) (0.12.1)\n",
            "Requirement already satisfied: fonttools>=4.22.0 in c:\\users\\mdssr\\documents\\vscode-workspace\\.venv\\lib\\site-packages (from matplotlib>=3.3.0->ultralytics) (4.55.0)\n",
            "Requirement already satisfied: kiwisolver>=1.0.1 in c:\\users\\mdssr\\documents\\vscode-workspace\\.venv\\lib\\site-packages (from matplotlib>=3.3.0->ultralytics) (1.4.7)\n",
            "Requirement already satisfied: packaging>=20.0 in c:\\users\\mdssr\\documents\\vscode-workspace\\.venv\\lib\\site-packages (from matplotlib>=3.3.0->ultralytics) (24.1)\n",
            "Requirement already satisfied: pyparsing>=2.3.1 in c:\\users\\mdssr\\documents\\vscode-workspace\\.venv\\lib\\site-packages (from matplotlib>=3.3.0->ultralytics) (3.2.0)\n",
            "Requirement already satisfied: python-dateutil>=2.7 in c:\\users\\mdssr\\documents\\vscode-workspace\\.venv\\lib\\site-packages (from matplotlib>=3.3.0->ultralytics) (2.9.0.post0)\n",
            "Requirement already satisfied: pytz>=2020.1 in c:\\users\\mdssr\\documents\\vscode-workspace\\.venv\\lib\\site-packages (from pandas>=1.1.4->ultralytics) (2024.2)\n",
            "Requirement already satisfied: tzdata>=2022.1 in c:\\users\\mdssr\\documents\\vscode-workspace\\.venv\\lib\\site-packages (from pandas>=1.1.4->ultralytics) (2024.2)\n",
            "Requirement already satisfied: charset-normalizer<4,>=2 in c:\\users\\mdssr\\documents\\vscode-workspace\\.venv\\lib\\site-packages (from requests>=2.23.0->ultralytics) (3.4.0)\n",
            "Requirement already satisfied: idna<4,>=2.5 in c:\\users\\mdssr\\documents\\vscode-workspace\\.venv\\lib\\site-packages (from requests>=2.23.0->ultralytics) (3.10)\n",
            "Requirement already satisfied: urllib3<3,>=1.21.1 in c:\\users\\mdssr\\documents\\vscode-workspace\\.venv\\lib\\site-packages (from requests>=2.23.0->ultralytics) (2.2.3)\n",
            "Requirement already satisfied: certifi>=2017.4.17 in c:\\users\\mdssr\\documents\\vscode-workspace\\.venv\\lib\\site-packages (from requests>=2.23.0->ultralytics) (2024.8.30)\n",
            "Requirement already satisfied: filelock in c:\\users\\mdssr\\documents\\vscode-workspace\\.venv\\lib\\site-packages (from torch>=1.8.0->ultralytics) (3.16.1)\n",
            "Requirement already satisfied: typing-extensions>=4.8.0 in c:\\users\\mdssr\\documents\\vscode-workspace\\.venv\\lib\\site-packages (from torch>=1.8.0->ultralytics) (4.12.2)\n",
            "Requirement already satisfied: sympy in c:\\users\\mdssr\\documents\\vscode-workspace\\.venv\\lib\\site-packages (from torch>=1.8.0->ultralytics) (1.13.3)\n",
            "Requirement already satisfied: networkx in c:\\users\\mdssr\\documents\\vscode-workspace\\.venv\\lib\\site-packages (from torch>=1.8.0->ultralytics) (3.3)\n",
            "Requirement already satisfied: jinja2 in c:\\users\\mdssr\\documents\\vscode-workspace\\.venv\\lib\\site-packages (from torch>=1.8.0->ultralytics) (3.1.4)\n",
            "Requirement already satisfied: fsspec in c:\\users\\mdssr\\documents\\vscode-workspace\\.venv\\lib\\site-packages (from torch>=1.8.0->ultralytics) (2024.9.0)\n",
            "Requirement already satisfied: setuptools in c:\\users\\mdssr\\documents\\vscode-workspace\\.venv\\lib\\site-packages (from torch>=1.8.0->ultralytics) (75.1.0)\n",
            "Requirement already satisfied: colorama in c:\\users\\mdssr\\documents\\vscode-workspace\\.venv\\lib\\site-packages (from tqdm>=4.64.0->ultralytics) (0.4.6)\n",
            "Requirement already satisfied: six>=1.5 in c:\\users\\mdssr\\documents\\vscode-workspace\\.venv\\lib\\site-packages (from python-dateutil>=2.7->matplotlib>=3.3.0->ultralytics) (1.16.0)\n",
            "Requirement already satisfied: MarkupSafe>=2.0 in c:\\users\\mdssr\\documents\\vscode-workspace\\.venv\\lib\\site-packages (from jinja2->torch>=1.8.0->ultralytics) (2.1.5)\n",
            "Requirement already satisfied: mpmath<1.4,>=1.1.0 in c:\\users\\mdssr\\documents\\vscode-workspace\\.venv\\lib\\site-packages (from sympy->torch>=1.8.0->ultralytics) (1.3.0)\n"
          ]
        }
      ],
      "source": [
        "!pip install ultralytics opencv-python"
      ]
    },
    {
      "cell_type": "code",
      "execution_count": 4,
      "metadata": {
        "colab": {
          "base_uri": "https://localhost:8080/"
        },
        "id": "KgvUFS67-f1H",
        "outputId": "97f61f51-a576-4452-823f-ebeccce968cc"
      },
      "outputs": [
        {
          "name": "stdout",
          "output_type": "stream",
          "text": [
            "Requirement already satisfied: torch in c:\\users\\mdssr\\documents\\vscode-workspace\\.venv\\lib\\site-packages (2.4.1)\n",
            "Requirement already satisfied: torchvision in c:\\users\\mdssr\\documents\\vscode-workspace\\.venv\\lib\\site-packages (0.19.1)\n",
            "Requirement already satisfied: torchaudio in c:\\users\\mdssr\\documents\\vscode-workspace\\.venv\\lib\\site-packages (2.4.1)\n",
            "Requirement already satisfied: filelock in c:\\users\\mdssr\\documents\\vscode-workspace\\.venv\\lib\\site-packages (from torch) (3.16.1)\n",
            "Requirement already satisfied: typing-extensions>=4.8.0 in c:\\users\\mdssr\\documents\\vscode-workspace\\.venv\\lib\\site-packages (from torch) (4.12.2)\n",
            "Requirement already satisfied: sympy in c:\\users\\mdssr\\documents\\vscode-workspace\\.venv\\lib\\site-packages (from torch) (1.13.3)\n",
            "Requirement already satisfied: networkx in c:\\users\\mdssr\\documents\\vscode-workspace\\.venv\\lib\\site-packages (from torch) (3.3)\n",
            "Requirement already satisfied: jinja2 in c:\\users\\mdssr\\documents\\vscode-workspace\\.venv\\lib\\site-packages (from torch) (3.1.4)\n",
            "Requirement already satisfied: fsspec in c:\\users\\mdssr\\documents\\vscode-workspace\\.venv\\lib\\site-packages (from torch) (2024.9.0)\n",
            "Requirement already satisfied: setuptools in c:\\users\\mdssr\\documents\\vscode-workspace\\.venv\\lib\\site-packages (from torch) (75.1.0)\n",
            "Requirement already satisfied: numpy in c:\\users\\mdssr\\documents\\vscode-workspace\\.venv\\lib\\site-packages (from torchvision) (1.26.4)\n",
            "Requirement already satisfied: pillow!=8.3.*,>=5.3.0 in c:\\users\\mdssr\\documents\\vscode-workspace\\.venv\\lib\\site-packages (from torchvision) (10.4.0)\n",
            "Requirement already satisfied: MarkupSafe>=2.0 in c:\\users\\mdssr\\documents\\vscode-workspace\\.venv\\lib\\site-packages (from jinja2->torch) (2.1.5)\n",
            "Requirement already satisfied: mpmath<1.4,>=1.1.0 in c:\\users\\mdssr\\documents\\vscode-workspace\\.venv\\lib\\site-packages (from sympy->torch) (1.3.0)\n",
            "Note: you may need to restart the kernel to use updated packages.\n"
          ]
        }
      ],
      "source": [
        "pip install torch torchvision torchaudio"
      ]
    },
    {
      "cell_type": "code",
      "execution_count": 5,
      "metadata": {
        "colab": {
          "base_uri": "https://localhost:8080/"
        },
        "id": "NKN8dcPw57Fa",
        "outputId": "f3311506-3d00-4dd8-ca1f-d65dd8b70bd8"
      },
      "outputs": [],
      "source": [
        "from ultralytics import YOLO\n",
        "model =YOLO('yolov8n-oiv7.pt')"
      ]
    },
    {
      "cell_type": "code",
      "execution_count": 6,
      "metadata": {
        "id": "hp3m3xxS6Jcp"
      },
      "outputs": [],
      "source": [
        "import cv2"
      ]
    },
    {
      "cell_type": "markdown",
      "metadata": {
        "id": "ngzSK1tg_-CY"
      },
      "source": [
        "for google colab"
      ]
    },
    {
      "cell_type": "markdown",
      "metadata": {
        "id": "2TQMnHH0AAL_"
      },
      "source": [
        "for vscode"
      ]
    },
    {
      "cell_type": "code",
      "execution_count": 7,
      "metadata": {
        "id": "Rfw8dvu8AC1c"
      },
      "outputs": [
        {
          "name": "stdout",
          "output_type": "stream",
          "text": [
            "Press q to stop.\n",
            "Quitting.\n"
          ]
        }
      ],
      "source": [
        "\n",
        "# Initialize the webcam capture\n",
        "cap = cv2.VideoCapture(0)\n",
        "\n",
        "if not cap.isOpened():\n",
        "    print('Error: Camera not accessible or not found.')\n",
        "    exit()\n",
        "\n",
        "print('Press q to stop.')\n",
        "\n",
        "frame_skip = 3\n",
        "frame_count = 0\n",
        "\n",
        "# The while loop checks if cap is opened\n",
        "while cap.isOpened():\n",
        "    ret, frame = cap.read()\n",
        "\n",
        "    if not ret:\n",
        "        print('Error: Unable to read frame.')\n",
        "        break\n",
        "\n",
        "    frame_count += 1\n",
        "    if frame_count % frame_skip == 0:\n",
        "        results = model.predict(source=frame, verbose=False)\n",
        "        annotated_frame = results[0].plot()\n",
        "\n",
        "        # Use cv2.imshow to display the frame\n",
        "        cv2.imshow('Annotated Frame', annotated_frame)\n",
        "\n",
        "    # Check for the 'q' key entry to stop the capture\n",
        "    if cv2.waitKey(10) & 0xFF == ord('q'):\n",
        "        print('Quitting.')\n",
        "        break\n",
        "\n",
        "# Release the webcam and close all OpenCV windows\n",
        "cap.release()\n",
        "cv2.destroyAllWindows()"
      ]
    },
    {
      "cell_type": "code",
      "execution_count": null,
      "metadata": {},
      "outputs": [],
      "source": []
    }
  ],
  "metadata": {
    "accelerator": "GPU",
    "colab": {
      "gpuType": "T4",
      "provenance": []
    },
    "kernelspec": {
      "display_name": ".venv",
      "language": "python",
      "name": "python3"
    },
    "language_info": {
      "codemirror_mode": {
        "name": "ipython",
        "version": 3
      },
      "file_extension": ".py",
      "mimetype": "text/x-python",
      "name": "python",
      "nbconvert_exporter": "python",
      "pygments_lexer": "ipython3",
      "version": "3.12.8"
    }
  },
  "nbformat": 4,
  "nbformat_minor": 0
}
